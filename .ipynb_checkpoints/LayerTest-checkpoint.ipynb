{
 "cells": [
  {
   "cell_type": "code",
   "execution_count": 1,
   "metadata": {},
   "outputs": [
    {
     "name": "stdout",
     "output_type": "stream",
     "text": [
      "Please enter password: ········\n",
      "Successfully logged in to GISLabUALR.maps.arcgis.com as jojoseph\n"
     ]
    }
   ],
   "source": [
    "import getpass \n",
    "from arcgis.gis import *\n",
    "from arcgis.mapping import WebMap\n",
    "\n",
    "#username = getpass.getuser()\n",
    "password = getpass.getpass(\"Please enter password: \")\n",
    "#password = getpass.getpass(\"Please enter password: \")\n",
    "dev_gis = GIS('https://www.arcgis.com', 'jojoseph', password)\n",
    "print(\"Successfully logged in to {} as {}\".format(dev_gis.properties.urlKey + '.' + dev_gis.properties.customBaseUrl,\n",
    "                                                 dev_gis.users.me.username))"
   ]
  },
  {
   "cell_type": "code",
   "execution_count": 2,
   "metadata": {},
   "outputs": [
    {
     "data": {
      "text/plain": [
       "[<Item title:\"ArkLaMEC_3\" type:Web Mapping Application owner:jojoseph>,\n",
       " <Item title:\"ArkLaMEC Map\" type:Web Mapping Application owner:jojoseph>,\n",
       " <Item title:\"ArkLaMEC\" type:Web Map owner:jojoseph>,\n",
       " <Item title:\"ArkLaMEC\" type:Web Mapping Application owner:jojoseph>,\n",
       " <Item title:\"ArkLaMEC_3\" type:Web Map owner:jojoseph>]"
      ]
     },
     "execution_count": 2,
     "metadata": {},
     "output_type": "execute_result"
    }
   ],
   "source": [
    "web_map_srch_results = dev_gis.content.search(query='title: \"ArkLaMEC*\" AND type: \"Web Map\"', \n",
    "                                         max_items=10)\n",
    "web_map_srch_results"
   ]
  },
  {
   "cell_type": "code",
   "execution_count": 3,
   "metadata": {},
   "outputs": [
    {
     "data": {
      "application/vnd.jupyter.widget-view+json": {
       "model_id": "900a5e63cea54f1e8585a24579db19a6"
      }
     },
     "metadata": {},
     "output_type": "display_data"
    }
   ],
   "source": [
    "web_map_obj = WebMap(web_map_srch_results[2])\n",
    "web_map_obj"
   ]
  },
  {
   "cell_type": "code",
   "execution_count": 4,
   "metadata": {},
   "outputs": [
    {
     "ename": "AttributeError",
     "evalue": "'WebMap' object has no attribute 'layers'",
     "output_type": "error",
     "traceback": [
      "\u001b[1;31m---------------------------------------------------------------------------\u001b[0m",
      "\u001b[1;31mAttributeError\u001b[0m                            Traceback (most recent call last)",
      "\u001b[1;32m<ipython-input-4-89eb13da981b>\u001b[0m in \u001b[0;36m<module>\u001b[1;34m()\u001b[0m\n\u001b[0;32m      1\u001b[0m \u001b[1;31m#web_map_obj.layers\u001b[0m\u001b[1;33m\u001b[0m\u001b[1;33m\u001b[0m\u001b[0m\n\u001b[1;32m----> 2\u001b[1;33m \u001b[1;32mfor\u001b[0m \u001b[0mlayer\u001b[0m \u001b[1;32min\u001b[0m \u001b[0mweb_map_obj\u001b[0m\u001b[1;33m.\u001b[0m\u001b[0mlayers\u001b[0m\u001b[1;33m:\u001b[0m\u001b[1;33m\u001b[0m\u001b[0m\n\u001b[0m\u001b[0;32m      3\u001b[0m     \u001b[0mprint\u001b[0m\u001b[1;33m(\u001b[0m\u001b[0mlayer\u001b[0m\u001b[1;33m.\u001b[0m\u001b[0mtitle\u001b[0m\u001b[1;33m)\u001b[0m\u001b[1;33m\u001b[0m\u001b[0m\n",
      "\u001b[1;31mAttributeError\u001b[0m: 'WebMap' object has no attribute 'layers'"
     ]
    }
   ],
   "source": [
    "#web_map_obj.layers\n",
    "for layer in web_map_obj.layers:\n",
    "    print(layer.title)"
   ]
  }
 ],
 "metadata": {
  "kernelspec": {
   "display_name": "Python 3",
   "language": "python",
   "name": "python3"
  },
  "language_info": {
   "codemirror_mode": {
    "name": "ipython",
    "version": 3
   },
   "file_extension": ".py",
   "mimetype": "text/x-python",
   "name": "python",
   "nbconvert_exporter": "python",
   "pygments_lexer": "ipython3",
   "version": "3.6.2"
  }
 },
 "nbformat": 4,
 "nbformat_minor": 2
}
